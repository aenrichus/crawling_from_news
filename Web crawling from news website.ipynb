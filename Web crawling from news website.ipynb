{
 "cells": [
  {
   "cell_type": "code",
   "execution_count": null,
   "metadata": {},
   "outputs": [],
   "source": [
    "from bs4 import BeautifulSoup\n",
    "import requests "
   ]
  },
  {
   "cell_type": "code",
   "execution_count": null,
   "metadata": {},
   "outputs": [],
   "source": [
    "def get_page(url):\n",
    "    page = requests.get(url)\n",
    "    soup = BeautifulSoup(page.text,'lxml')\n",
    "    return soup"
   ]
  },
  {
   "cell_type": "code",
   "execution_count": null,
   "metadata": {},
   "outputs": [],
   "source": [
    "def get_link(url,keyword):\n",
    "    links = []\n",
    "    keyword_links = []\n",
    "    link_list = get_page(url).find_all('a')\n",
    "    \n",
    "    for link in link_list:\n",
    "        links.append(link.get('href'))\n",
    "\n",
    "    for link in links:\n",
    "        if link is not None:\n",
    "            if keyword in link or keyword.lower() in link or keyword.capitalize() in link:\n",
    "                keyword_links.append(link)\n",
    "        else:\n",
    "            pass\n",
    "    return keyword_links"
   ]
  },
  {
   "cell_type": "code",
   "execution_count": null,
   "metadata": {},
   "outputs": [],
   "source": [
    "def get_content(url,keyword):\n",
    "    text = []\n",
    "    keyword_text = []\n",
    "    for summary in get_page(url).find_all('p','WSJTheme--summary--12br5Svc'):\n",
    "        text.append(summary.text)\n",
    "    for paragraph in text:\n",
    "        if keyword in paragraph or keyword.lower() in paragraph or keyword.capitalize() in paragraph:\n",
    "            keyword_text.append(paragraph)\n",
    "    return keyword_text"
   ]
  },
  {
   "cell_type": "code",
   "execution_count": null,
   "metadata": {},
   "outputs": [],
   "source": [
    "def main():\n",
    "    url = input(\"Enter website url:\")\n",
    "    keyword = input(\"Enter keyword:\")\n",
    "    print(\"Crawling...\")\n",
    "    get_page(url)\n",
    "    links = get_link(url,keyword)\n",
    "    content = get_content(url,keyword)\n",
    "    print(\"The related links:{}\".format(links))\n",
    "    print(\"The related content:{}\".format(content))"
   ]
  },
  {
   "cell_type": "code",
   "execution_count": null,
   "metadata": {},
   "outputs": [],
   "source": [
    "if __name__ == '__main__':\n",
    "    main()"
   ]
  },
  {
   "cell_type": "code",
   "execution_count": null,
   "metadata": {},
   "outputs": [],
   "source": []
  }
 ],
 "metadata": {
  "kernelspec": {
   "display_name": "Python 3",
   "language": "python",
   "name": "python3"
  },
  "language_info": {
   "codemirror_mode": {
    "name": "ipython",
    "version": 3
   },
   "file_extension": ".py",
   "mimetype": "text/x-python",
   "name": "python",
   "nbconvert_exporter": "python",
   "pygments_lexer": "ipython3",
   "version": "3.7.3"
  }
 },
 "nbformat": 4,
 "nbformat_minor": 2
}
